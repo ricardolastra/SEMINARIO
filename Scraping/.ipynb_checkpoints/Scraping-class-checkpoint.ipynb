{
 "cells": [
  {
   "cell_type": "markdown",
   "metadata": {},
   "source": [
    "# Request (tipo curl)\n",
    "\n",
    "* Request es la biblioteca en python para hacer peticiones HTTP.\n",
    "* Puedo hacer programáticamente una petición con:\n",
    "    * Headers.\n",
    "    \n",
    "    * Body.\n",
    "    \n",
    "    * Tipo de petición.\n",
    "    \n",
    "    * Manejo de sesión (cookies).\n",
    "    \n",
    "* Al crear una petición, se genera un objeto con los siguientes atributos:\n",
    "\n",
    "    * status code\n",
    "        Código de respuesta de la petición. Existe un universo finito de códigos que pueden revisar en wikipedia (https://es.wikipedia.org/wiki/Anexo:C%C3%B3digos_de_estado_HTTP).\n",
    "        \n",
    "    * encoding\n",
    "        Codificación original de la página web. \n",
    "        ISO-8859-1 es el famosísimo Windows.\n",
    "        UTF-8 existe en linux.\n",
    "        \n",
    "    * headers\n",
    "        Encabezados de la petición web. Así como nosotros agregamos encabezados al realizar peticiones, el servidor hace lo mismo.\n",
    "        \n",
    "    * text\n",
    "        El HTML/JSON/lo que se regresa en el body del paquete."
   ]
  },
  {
   "cell_type": "code",
   "execution_count": null,
   "metadata": {
    "collapsed": true
   },
   "outputs": [],
   "source": [
    "import requests\n",
    "r  = requests.get(\"http://www.banxico.org.mx/SieInternet/consultarDirectorioInternetAction.do?sector=18&accion=consultarCuadro&idCuadro=CF300&locale=es\")"
   ]
  },
  {
   "cell_type": "code",
   "execution_count": null,
   "metadata": {
    "collapsed": false
   },
   "outputs": [],
   "source": [
    "r.status_code"
   ]
  },
  {
   "cell_type": "code",
   "execution_count": null,
   "metadata": {
    "collapsed": false
   },
   "outputs": [],
   "source": [
    "r.encoding"
   ]
  },
  {
   "cell_type": "markdown",
   "metadata": {},
   "source": [
    "### ¿Que información nos regresa los headers del servidor?"
   ]
  },
  {
   "cell_type": "code",
   "execution_count": null,
   "metadata": {
    "collapsed": false
   },
   "outputs": [],
   "source": [
    "r.headers"
   ]
  },
  {
   "cell_type": "code",
   "execution_count": null,
   "metadata": {
    "collapsed": false
   },
   "outputs": [],
   "source": [
    "r.text"
   ]
  },
  {
   "cell_type": "markdown",
   "metadata": {},
   "source": [
    "# BeautifulSoup (BS4)\n",
    "\n",
    "* Parser mágico en Python.\n",
    "\n",
    "* Transforma una cadena de texto con HTML a un objeto en el cual podemos buscar, iterar, modificar.\n",
    "\n",
    "* Pueden revisar la documentación en https://www.crummy.com/software/BeautifulSoup/bs4/doc/.\n",
    "\n",
    "* Requests + BS4 son parte del navaja suiza. \n"
   ]
  },
  {
   "cell_type": "code",
   "execution_count": null,
   "metadata": {
    "collapsed": false
   },
   "outputs": [],
   "source": [
    "from bs4 import BeautifulSoup\n",
    "\n",
    "\n",
    "r  = requests.get(\"http://www.banxico.org.mx/SieInternet/consultarDirectorioInternetAction.do?sector=18&accion=consultarCuadro&idCuadro=CF300&locale=es\")\n",
    "\n",
    "data = r.text\n",
    "\n",
    "soup = BeautifulSoup(data)\n",
    "\n",
    "for link in soup.find_all('a'):\n",
    "    print(link.get('href'))"
   ]
  },
  {
   "cell_type": "code",
   "execution_count": null,
   "metadata": {
    "collapsed": false
   },
   "outputs": [],
   "source": [
    "r  = requests.get(\"http://www.banxico.org.mx/SieInternet/consultarDirectorioInternetAction.do?sector=18&accion=consultarCuadro&idCuadro=CF300&locale=es\")\n",
    "\n",
    "data = r.text\n",
    "\n",
    "soup = BeautifulSoup(data,\"lxml\")\n",
    "\n",
    "for link in soup.find_all('a'):\n",
    "    print(link.get('href'))"
   ]
  },
  {
   "cell_type": "code",
   "execution_count": null,
   "metadata": {
    "collapsed": false
   },
   "outputs": [],
   "source": [
    "soup.find_all('input')"
   ]
  },
  {
   "cell_type": "code",
   "execution_count": null,
   "metadata": {
    "collapsed": false
   },
   "outputs": [],
   "source": [
    "for html_input in soup.find_all('input'):\n",
    "    if html_input['type']=='checkbox':\n",
    "        print(html_input)"
   ]
  },
  {
   "cell_type": "code",
   "execution_count": null,
   "metadata": {
    "collapsed": false
   },
   "outputs": [],
   "source": [
    "for html_input in soup.find_all('input'):\n",
    "    if html_input['type']=='checkbox':\n",
    "        try:\n",
    "            if html_input['value'][:2]=='SF':\n",
    "                print(html_input['value'])\n",
    "        except:\n",
    "            print(html_input.attrs)"
   ]
  },
  {
   "cell_type": "code",
   "execution_count": null,
   "metadata": {
    "collapsed": false
   },
   "outputs": [],
   "source": [
    "for html_input in soup.find_all('input',{'value':True}):\n",
    "    if html_input['type']=='checkbox' and html_input['value'][:2]=='SF':\n",
    "        print(html_input['value'])"
   ]
  },
  {
   "cell_type": "code",
   "execution_count": null,
   "metadata": {
    "collapsed": false
   },
   "outputs": [],
   "source": [
    "checkboxes = []\n",
    "for html_input in soup.find_all('input',{'value':True}):\n",
    "    if html_input['type']=='checkbox' and html_input['value'][:2]=='SF':\n",
    "        checkboxes.append(html_input['value'])\n",
    "print(checkboxes)\n",
    "#data.extend(checkboxes)"
   ]
  },
  {
   "cell_type": "code",
   "execution_count": null,
   "metadata": {
    "collapsed": false
   },
   "outputs": [],
   "source": [
    "[ html_input['value']  for html_input in soup.find_all('input',{'value':True}) if html_input['type']=='checkbox' and html_input['value'][:2]=='SF']"
   ]
  },
  {
   "cell_type": "markdown",
   "metadata": {},
   "source": [
    "# Ejercicio\n",
    "\n",
    "1. Completa el ejercicio en Python de la siguiente manera.\n",
    "    1. Descarga un archivo CSV con todas las Series que existen en la página web para los años 2015-2017.\n",
    "        2. Ejemplo de archivo esperado. \n",
    "        ```\n",
    "        \"Fecha\",\"SF45422\",\"SF45438\",\"SF45439\",\"SF45470\",\"SF45423\"....\n",
    "        16/05/2015,27.000000,9.956650,9.956650,5.805165,90.000000\n",
    "        19/05/2015,24.000000,9.961733,9.961733,5.762100,87.000000\n",
    "        20/05/2015,23.000000,9.965181,9.965181,5.468973,86.000000\n",
    "        21/05/2015,22.000000,9.968039,9.968039,5.246751,85.000000\n",
    "        22/05/2015,28.000000,9.960956,9.960956,5.039620,91.000000\n",
    "        23/05/2015,27.000000,9.962875,9.962875,4.968445,90.000000\n",
    "        ```\n",
    "    La salida esperada es un archivo .py.\n",
    "    \n",
    "2. Repite el ejercicio 1.1 anterior desde shell. \n",
    "    1. Busca los valores del checkbox.\n",
    "    2. Formatea el url para pedir los archivos csv\n",
    "    3. Haz la petición con curl y genera el archivo CSV de salida.\n",
    "    4. Modifica la codifiación del archivo CSV a utf-8.\n",
    "    \n",
    "    La salida esperada es un archivo Bash."
   ]
  },
  {
   "cell_type": "code",
   "execution_count": null,
   "metadata": {
    "collapsed": false,
    "scrolled": true
   },
   "outputs": [],
   "source": [
    "class n_auction(object):\n",
    "    def __init__(self):\n",
    "        self.search_request = {'idCuadro':'CF300',\n",
    "             'sector':'18',\n",
    "             'version':'3',\n",
    "             'locale':'es',\n",
    "             'anoInicial':'2015',\n",
    "             'anoFinal':'2017',\n",
    "             'tipoInformacion': '',\n",
    "             'formatoCSV.x':'41',\n",
    "             'formatoCSV.y':'20',\n",
    "             'formatoHorizontal':'false',\n",
    "             'metadatosWeb':'true'\n",
    "                              }\n",
    "\n",
    "        self.headers = {'Host':'www.banxico.org.mx',\n",
    "                        'Accept':'text/html,application/xhtml+xml,application/xml;q=0.9,*/*;q=0.8',\n",
    "                        'User-Agent':'Mozilla/5.0 (Macintosh; Intel Mac OS X 10.12; rv:57.0) Gecko/20100101 Firefox/57.0',\n",
    "                        'Referer':'http://www.banxico.org.mx/SieInternet/consultarDirectorioInternetAction.do sector=18&accion=consultarCuadro&idCuadro=CF300&locale=es',\n",
    "                        'Content-Type':'application/x-www-form-urlencoded',\n",
    "                        'Cookie':'JSESSIONID=2a3c0c3548c3355760e517e07b16; TS01b274c3=0189f484afd3ff77421e673fa6176d68eb4e0141c552bebd21371f8296fbb353a9e01a326fc9bcb372a1ea407e1ea405ee46908da154fb691a4bca27d26185e0fee4641752; test1=642664106.36895.0000; TS014a759c=0189f484afdfa6718b0e6f8d0e1f10a034ccb3aa2752bebd21371f8296fbb353a9e01a326fb730d18d4d6d1f597f6d1cb5d618b911e67630d7cbb907b332fffd745351ced0; ORF_wwwBanx=2505459370.20480.0000',\n",
    "                        'Connection':'keep-alive',\n",
    "                        'Upgrade-Insecure-Requests':'1'\n",
    "                       }\n",
    "       \n",
    "\n",
    "    def scrape(self, max_pages):\n",
    " \n",
    "        #page_nu = 0\n",
    "        #self.search_request['start'] = page_nu\n",
    "        #while page_nu < max_pages:\n",
    "            #payload = json.dumps(self.search_request)\n",
    "        r2 = requests.get('http://www.banxico.org.mx/SieInternet/consultarDirectorioInternetAction.do?accion=consultarSeries', headers=self.headers,data=self.search_request) # headers=self.headers, params=params \n",
    "        print(r2)\n",
    "\n",
    "\n",
    "        #s = BeautifulSoup(r2.text, 'html.parser')\n",
    "        #print(s)\n",
    "\n",
    "if __name__ == '__main__':\n",
    "    scraper = n_auction()\n",
    "    scraper.scrape(1)"
   ]
  },
  {
   "cell_type": "code",
   "execution_count": null,
   "metadata": {
    "collapsed": true
   },
   "outputs": [],
   "source": [
    "r2 = r2.text.encode('utf-8')\n",
    "r2 = r2.text.split(\"\\r\\n\")\n",
    "r2 = r2[17:len(r2)]\n",
    "\n",
    "#...continuo con liempieza y generacion de .csv pero no se por que obtengo Status 400\n",
    "#...modifique varias veces el User-Agent para parecer algo normal ante el servidor, pero no funciono\n"
   ]
  }
 ],
 "metadata": {
  "kernelspec": {
   "display_name": "Python 3",
   "language": "python",
   "name": "python3"
  },
  "language_info": {
   "codemirror_mode": {
    "name": "ipython",
    "version": 3
   },
   "file_extension": ".py",
   "mimetype": "text/x-python",
   "name": "python",
   "nbconvert_exporter": "python",
   "pygments_lexer": "ipython3",
   "version": "3.5.2"
  }
 },
 "nbformat": 4,
 "nbformat_minor": 2
}
