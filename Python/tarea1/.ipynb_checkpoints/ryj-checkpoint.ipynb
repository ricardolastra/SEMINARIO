{
 "cells": [
  {
   "cell_type": "code",
   "execution_count": 1,
   "metadata": {
    "collapsed": false
   },
   "outputs": [],
   "source": [
    "#Librerias\n",
    "import urllib.request\n",
    "import re\n",
    "import collections\n",
    "import numpy\n",
    "from string import punctuation\n",
    "from collections import Counter"
   ]
  },
  {
   "cell_type": "code",
   "execution_count": 3,
   "metadata": {
    "collapsed": false
   },
   "outputs": [],
   "source": [
    "#Descargamos el libro en .txt y lo guardamos en libro\n",
    "with urllib.request.urlopen(\"http://www.gutenberg.org/cache/epub/1112/pg1112.txt\") as url:\n",
    "    libro = url.read()\n",
    "libro = libro.decode(\"utf-8-sig\")"
   ]
  },
  {
   "cell_type": "code",
   "execution_count": 4,
   "metadata": {
    "collapsed": false
   },
   "outputs": [],
   "source": [
    "#Quitamos el inicio y fin de los comentarios del proyecto \"Project Gutenberg EBook\"\n",
    "libro = libro[1798:-19133]"
   ]
  },
  {
   "cell_type": "code",
   "execution_count": 5,
   "metadata": {
    "collapsed": false
   },
   "outputs": [],
   "source": [
    "#Quitamos los r\\n's\n",
    "libro = libro.replace(\"\\r\\n\", \" \")"
   ]
  },
  {
   "cell_type": "code",
   "execution_count": 13,
   "metadata": {
    "collapsed": false
   },
   "outputs": [
    {
     "data": {
      "text/plain": [
       "26653"
      ]
     },
     "execution_count": 13,
     "metadata": {},
     "output_type": "execute_result"
    }
   ],
   "source": [
    "#1) ¿Cuántas palabras tiene Romeo y Julieta?\n",
    "strs = libro\n",
    "strs_total = re.split(r'[^A-Za-z]+',strs)\n",
    "x1 = len(strs_total)\n",
    "x1"
   ]
  },
  {
   "cell_type": "code",
   "execution_count": 14,
   "metadata": {
    "collapsed": false
   },
   "outputs": [
    {
     "data": {
      "text/plain": [
       "2213"
      ]
     },
     "execution_count": 14,
     "metadata": {},
     "output_type": "execute_result"
    }
   ],
   "source": [
    "#2) ¿Cuántas de ellas son únicas?\n",
    "#Cuenta total por palabra\n",
    "cuenta = collections.Counter(strs_total)\n",
    "#Pasamos a lista los totales\n",
    "cuenta_lista = list(cuenta.values())\n",
    "#Contamos las palabras que aparecen 1 vez o que son únicas\n",
    "x2 = cuenta_lista.count(1)\n",
    "x2"
   ]
  },
  {
   "cell_type": "code",
   "execution_count": 15,
   "metadata": {
    "collapsed": false
   },
   "outputs": [
    {
     "data": {
      "text/plain": [
       "163.60661764705881"
      ]
     },
     "execution_count": 15,
     "metadata": {},
     "output_type": "execute_result"
    }
   ],
   "source": [
    "#3) ¿Cuál es el número de caracteres promedio por oración (entre punto y punto) ?\n",
    "strs = libro\n",
    "strs_total = re.split(r'(?<=[^A-Z].[.?]) +(?=[A-Z])',strs)\n",
    "palabras = Counter(map(len, strs_total))\n",
    "cuenta_keys = list(palabras.keys())\n",
    "x3 = numpy.mean(cuenta_keys)\n",
    "x3"
   ]
  },
  {
   "cell_type": "code",
   "execution_count": 16,
   "metadata": {
    "collapsed": false
   },
   "outputs": [
    {
     "data": {
      "text/plain": [
       "7.0"
      ]
     },
     "execution_count": 16,
     "metadata": {},
     "output_type": "execute_result"
    }
   ],
   "source": [
    "#4) ¿Cuál es el promedio de letras por palabra?\n",
    "strs = libro\n",
    "strs_total = re.split(r'[^A-Za-z]+',strs)\n",
    "letras = Counter(map(len, strs_total))\n",
    "cuenta_keys = list(letras.keys())\n",
    "x4 = numpy.mean(cuenta_keys)\n",
    "x4"
   ]
  },
  {
   "cell_type": "code",
   "execution_count": 38,
   "metadata": {
    "collapsed": true
   },
   "outputs": [],
   "source": [
    "#Respuestas a archivo TXT\n",
    "archivo = open('respuestas.txt', 'w')"
   ]
  },
  {
   "cell_type": "code",
   "execution_count": 39,
   "metadata": {
    "collapsed": false
   },
   "outputs": [
    {
     "data": {
      "text/plain": [
       "80"
      ]
     },
     "execution_count": 39,
     "metadata": {},
     "output_type": "execute_result"
    }
   ],
   "source": [
    "archivo.write(\"num_pal, \" + str(x1) + \" unique_pal, \" + str(x2) + \" mean_char_sen, \" + str(x3) + \" mean_char_word, \" + str(x4))"
   ]
  },
  {
   "cell_type": "code",
   "execution_count": 40,
   "metadata": {
    "collapsed": true
   },
   "outputs": [],
   "source": [
    "archivo.close()"
   ]
  },
  {
   "cell_type": "code",
   "execution_count": 45,
   "metadata": {
    "collapsed": true
   },
   "outputs": [],
   "source": [
    "#Req a archivo TXT\n",
    "archivo = open('requirements.txt', 'w')"
   ]
  },
  {
   "cell_type": "code",
   "execution_count": 46,
   "metadata": {
    "collapsed": false
   },
   "outputs": [
    {
     "data": {
      "text/plain": [
       "132"
      ]
     },
     "execution_count": 46,
     "metadata": {},
     "output_type": "execute_result"
    }
   ],
   "source": [
    "archivo.write(\"import urllib.request \" \n",
    "              \" import re \" \n",
    "              \" import collections \" \n",
    "              \" import numpy \" \n",
    "              \" from string import punctuation \"  \n",
    "              \" from collections import Counter \")"
   ]
  },
  {
   "cell_type": "code",
   "execution_count": 47,
   "metadata": {
    "collapsed": true
   },
   "outputs": [],
   "source": [
    "archivo.close()"
   ]
  },
  {
   "cell_type": "code",
   "execution_count": 48,
   "metadata": {
    "collapsed": true
   },
   "outputs": [],
   "source": [
    "#Referencias:\n",
    "#https://stackoverflow.com/questions/17507876/trying-to-count-words-in-a-string\n",
    "#https://regex101.com/r/nG1gU7/27\n",
    "#https://docs.python.org/3/tutorial/inputoutput.html"
   ]
  }
 ],
 "metadata": {
  "kernelspec": {
   "display_name": "Python 3",
   "language": "python",
   "name": "python3"
  },
  "language_info": {
   "codemirror_mode": {
    "name": "ipython",
    "version": 3
   },
   "file_extension": ".py",
   "mimetype": "text/x-python",
   "name": "python",
   "nbconvert_exporter": "python",
   "pygments_lexer": "ipython3",
   "version": "3.5.2"
  }
 },
 "nbformat": 4,
 "nbformat_minor": 2
}
