{
 "cells": [
  {
   "cell_type": "code",
   "execution_count": 2,
   "metadata": {
    "collapsed": true
   },
   "outputs": [],
   "source": [
    "# imports\n",
    "import requests\n",
    "import urllib.request\n",
    "import re\n",
    "import collections\n",
    "import numpy\n",
    "import string\n",
    "import pandas as pd\n",
    "from string import punctuation\n",
    "from collections import Counter\n",
    "\n",
    "# funcs\n",
    "# divide el texto en parrafos\n",
    "def divide_parrafos(texto):\n",
    "    strs = texto\n",
    "    strs_total = re.split(r\"\\r\\n\\r\\n\",strs)\n",
    "    return strs_total\n",
    "\n",
    "\n",
    "# longitud del parrafo (num palabras)\n",
    "def lon_parrafo(parrafo):\n",
    "    strs_total = pd.DataFrame(parrafo,columns=['versiculo'])\n",
    "    strs_total_parrafo = strs_total[\"versiculo\"].str.split().str.len()\n",
    "    return strs_total_parrafo\n",
    "\n",
    "\n",
    "# longitud promedio de palabras\n",
    "def lon_palabra(parrafo):\n",
    "    palabras = Counter(map(len, parrafo))\n",
    "    cuenta_keys = list(palabras.keys())\n",
    "    promedio_palabras = numpy.mean(cuenta_keys)\n",
    "    return promedio_palabras\n",
    "\n",
    "\n",
    "# num palabras promedio por oracion\n",
    "def lon_prom_oracion(parrafo):\n",
    "    strs_total_prom = numpy.mean(parrafo)\n",
    "    return strs_total_prom\n",
    "\n",
    "\n",
    "# num de signos de puntuacion\n",
    "def total_punt(parrafo):\n",
    "    counts = Counter(parrafo)\n",
    "    punctuation_counts = {k:v for k, v in counts.items() if k in punctuation}\n",
    "    return punctuation_counts\n",
    "\n",
    "\n",
    "# regresa un dataframe con las variables anteriores\n",
    "def estructura_texto(var1,var2,var3,var4):\n",
    "    df = pd.DataFrame({'Longitud del parrafo': var1,\n",
    "                   'Longitud prom_palabras': var2,\n",
    "                   'Num palabras_prom ora': var3,\n",
    "                   'Num signos punt': var4\n",
    "                  })\n",
    "    return df"
   ]
  },
  {
   "cell_type": "code",
   "execution_count": null,
   "metadata": {
    "collapsed": true
   },
   "outputs": [],
   "source": []
  }
 ],
 "metadata": {
  "kernelspec": {
   "display_name": "Python 3",
   "language": "python",
   "name": "python3"
  },
  "language_info": {
   "codemirror_mode": {
    "name": "ipython",
    "version": 3
   },
   "file_extension": ".py",
   "mimetype": "text/x-python",
   "name": "python",
   "nbconvert_exporter": "python",
   "pygments_lexer": "ipython3",
   "version": "3.7.3"
  }
 },
 "nbformat": 4,
 "nbformat_minor": 2
}
